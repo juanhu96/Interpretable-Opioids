{
 "cells": [
  {
   "cell_type": "markdown",
   "metadata": {},
   "source": [
    "## Import Data"
   ]
  },
  {
   "cell_type": "code",
   "execution_count": 13,
   "metadata": {},
   "outputs": [],
   "source": [
    "import os\n",
    "import csv\n",
    "import numpy as np\n",
    "import pandas as pd\n",
    "import utils.baseline_functions as base"
   ]
  },
  {
   "cell_type": "code",
   "execution_count": 2,
   "metadata": {},
   "outputs": [],
   "source": [
    "# Import data\n",
    "os.chdir('/Users/jingyuanhu/Desktop/Research/Interpretable_Opioid')\n",
    "SAMPLE = pd.read_csv('Data/SAMPLE_LABEL_FEATURE.csv', delimiter = \",\")\n",
    "\n",
    "# Encode categorical variable\n",
    "SAMPLE['patient_gender'] = SAMPLE['patient_gender'].astype('category')\n",
    "SAMPLE[\"patient_gender_cat\"] = SAMPLE[\"patient_gender\"].cat.codes\n",
    "SAMPLE = pd.get_dummies(SAMPLE, columns=[\"drug\", \"payment\"])"
   ]
  },
  {
   "cell_type": "markdown",
   "metadata": {},
   "source": [
    "## Baseline Models: \n",
    "- Decision Tree(CART), Explainable Boosting Machine (EBM)\n",
    "- L1/L2 Logistic, Linear SVM, Random Forest, XGBoost"
   ]
  },
  {
   "cell_type": "code",
   "execution_count": 3,
   "metadata": {},
   "outputs": [],
   "source": [
    "x = SAMPLE[['Age','patient_gender_cat', 'quantity', 'days_supply',\\\n",
    "            'past_prescription', 'prescriber_num_presc','prescriber_num_pat', 'prescriber_num_pat_long',\\\n",
    "            'AvgMME', 'Avg_days_supply', 'concurrent_opioid', 'concurrent_benzo',\\\n",
    "            'count_prior_presc', 'count_prior_days_supply', 'count_prior_quantity',\\\n",
    "            'drug_Codeine', 'drug_Fentanyl','drug_Hydrocodone', 'drug_Hydromorphone',\\\n",
    "            'drug_Methadone', 'drug_Morphine', 'drug_Oxycodone', 'drug_Oxymorphone',\\\n",
    "            'payment_CashCredit', 'payment_CommercialIns', 'payment_IndianNation',\\\n",
    "            'payment_Medicaid', 'payment_Medicare', 'payment_MilitaryIns',\\\n",
    "            'payment_Other', 'payment_WorkersComp']]\n",
    "y = SAMPLE['long_term_presc'].values"
   ]
  },
  {
   "cell_type": "code",
   "execution_count": 4,
   "metadata": {},
   "outputs": [],
   "source": [
    "# Decision Tree\n",
    "depth = [1,2,3,4,5]\n",
    "dt_summary = base.DecisionTree(X=x, Y=y, depth=depth, seed=42)\n",
    "\n",
    "# EBM\n",
    "n_estimators = [50,100]\n",
    "depth = [1,2,3,4,5]\n",
    "ebm_summary = base.EBM(X=x, Y=y, depth=depth, estimators=n_estimators, seed=42)\n",
    "\n",
    "# L2 logistic\n",
    "c = np.linspace(1e-4, 1e-1, 5).tolist()\n",
    "logistic_summary = base.Logistic(X=x, Y=y, C=c, seed=42)\n",
    "\n",
    "# L1 logistic\n",
    "c = np.linspace(1e-4, 1e-1, 5).tolist()\n",
    "lasso_summary = base.Lasso(X=x, Y=y, C=c, seed=42)\n",
    "\n",
    "# LinearSVM\n",
    "c = np.linspace(1e-4, 1e-1, 5).tolist()\n",
    "svm_summary = base.LinearSVM(X=x, Y=y, C=c, seed=42)\n",
    "\n",
    "# Random Forest \n",
    "n_estimators =  [50,100] \n",
    "depth = [1,2,3,4,5]\n",
    "rf_summary = base.RF(X=x, Y=y, depth=depth, estimators=n_estimators, seed=42)\n",
    "\n",
    "# XGBoost\n",
    "n_estimators =  [50,100] \n",
    "depth = [1,2,3,4,5]\n",
    "xgb_summary = base.XGB(X=x, Y=y, depth=depth, estimators=n_estimators, seed=42)"
   ]
  },
  {
   "cell_type": "code",
   "execution_count": 31,
   "metadata": {},
   "outputs": [],
   "source": [
    "# Save results\n",
    "results = {\"Decision Tree\": str((round(np.mean(dt_summary['holdout_test_auc']), 3))) + \" (\" + str(round(np.std(dt_summary['holdout_test_auc']), 3)) + \")\", \n",
    "           \"Explainable Boosting Machine\": str((round(np.mean(ebm_summary['holdout_test_auc']), 3))) + \" (\" + str(round(np.std(ebm_summary['holdout_test_auc']), 3)) + \")\", \n",
    "            \"Logistic (L2)\": str((round(np.mean(logistic_summary['holdout_test_auc']), 3))) + \" (\" + str(round(np.std(logistic_summary['holdout_test_auc']), 3)) + \")\", \n",
    "            \"Logistic (L1)\": str(round(np.mean(lasso_summary['holdout_test_auc']),3)) + \" (\" + str(round(np.std(lasso_summary['holdout_test_auc']), 3)) + \")\", \n",
    "            \"Linear SVM\": str(round(np.mean(svm_summary['holdout_test_auc']),3)) + \" (\" + str(round(np.std(svm_summary['holdout_test_auc']), 3)) + \")\", \n",
    "            \"Random Forest\": str(round(np.mean(rf_summary['holdout_test_auc']),3)) + \" (\" + str(round(np.std(rf_summary['holdout_test_auc']), 3)) + \")\",\n",
    "          \"XG Boost\": str((round(np.mean(xgb_summary['holdout_test_auc']), 3))) + \" (\" + str(round(np.std(xgb_summary['holdout_test_auc']), 3)) + \")\"}\n",
    "\n",
    "results = pd.DataFrame.from_dict(results, orient='index', columns=['Holdout Test AUC (mean and sd)'])\n",
    "results"
   ]
  },
  {
   "cell_type": "code",
   "execution_count": 30,
   "metadata": {},
   "outputs": [],
   "source": [
    "# Export results\n",
    "path = './Results/baselines/'\n",
    "results.to_csv(path + \"baseline_results.csv\")"
   ]
  },
  {
   "cell_type": "markdown",
   "metadata": {},
   "source": [
    "## Interpretable Models"
   ]
  },
  {
   "cell_type": "code",
   "execution_count": null,
   "metadata": {},
   "outputs": [],
   "source": []
  },
  {
   "cell_type": "code",
   "execution_count": null,
   "metadata": {},
   "outputs": [],
   "source": []
  },
  {
   "cell_type": "code",
   "execution_count": null,
   "metadata": {},
   "outputs": [],
   "source": []
  }
 ],
 "metadata": {
  "kernelspec": {
   "display_name": "Python 3",
   "language": "python",
   "name": "python3"
  },
  "language_info": {
   "codemirror_mode": {
    "name": "ipython",
    "version": 3
   },
   "file_extension": ".py",
   "mimetype": "text/x-python",
   "name": "python",
   "nbconvert_exporter": "python",
   "pygments_lexer": "ipython3",
   "version": "3.8.5"
  }
 },
 "nbformat": 4,
 "nbformat_minor": 4
}
